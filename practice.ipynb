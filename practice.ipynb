{
  "nbformat": 4,
  "nbformat_minor": 0,
  "metadata": {
    "colab": {
      "name": "practice.ipynb",
      "provenance": [],
      "collapsed_sections": [],
      "include_colab_link": true
    },
    "kernelspec": {
      "name": "python3",
      "display_name": "Python 3"
    },
    "accelerator": "GPU"
  },
  "cells": [
    {
      "cell_type": "markdown",
      "metadata": {
        "id": "view-in-github",
        "colab_type": "text"
      },
      "source": [
        "<a href=\"https://colab.research.google.com/github/JainMridul82/Transliteration_Encoder_Decoder_Attention/blob/master/practice.ipynb\" target=\"_parent\"><img src=\"https://colab.research.google.com/assets/colab-badge.svg\" alt=\"Open In Colab\"/></a>"
      ]
    },
    {
      "cell_type": "code",
      "metadata": {
        "id": "w5UqLTSwV1l3",
        "colab_type": "code",
        "colab": {}
      },
      "source": [
        "import numpy as np\n",
        "import seaborn as sns\n",
        "import matplotlib.pyplot as plt\n",
        "import torch\n",
        "import random\n",
        "import re\n",
        "from torch.utils.data import Dataset\n",
        "from torch.autograd import Variable\n",
        "import torch.nn.functional as F\n",
        "from IPython.display import clear_output\n",
        "from tqdm import tqdm_notebook\n",
        "from xml.etree.ElementTree import parse"
      ],
      "execution_count": 0,
      "outputs": []
    },
    {
      "cell_type": "code",
      "metadata": {
        "id": "NNDJvztDWNg1",
        "colab_type": "code",
        "outputId": "37d14707-0461-425b-9bd8-9f5e070a3ca0",
        "colab": {
          "base_uri": "https://localhost:8080/",
          "height": 34
        }
      },
      "source": [
        "device_gpu=torch.device('cuda:0' if torch.cuda.is_available() else 'cpu')\n",
        "print(device_gpu)"
      ],
      "execution_count": 2,
      "outputs": [
        {
          "output_type": "stream",
          "text": [
            "cuda:0\n"
          ],
          "name": "stdout"
        }
      ]
    },
    {
      "cell_type": "code",
      "metadata": {
        "id": "kpQO7bThWV1j",
        "colab_type": "code",
        "outputId": "e0f24911-781f-4484-d4d9-b2231e1a062b",
        "colab": {
          "base_uri": "https://localhost:8080/",
          "height": 54
        }
      },
      "source": [
        "eng_alphabets='ABCDEFGHIJKLMNOPQRSTUVWXYZ'\n",
        "pad_char='-PAD-'\n",
        "eng_alpha2index={pad_char:0}\n",
        "for index,alpha in enumerate(eng_alphabets):\n",
        "  eng_alpha2index[alpha]=index+1\n",
        "print(eng_alpha2index)"
      ],
      "execution_count": 3,
      "outputs": [
        {
          "output_type": "stream",
          "text": [
            "{'-PAD-': 0, 'A': 1, 'B': 2, 'C': 3, 'D': 4, 'E': 5, 'F': 6, 'G': 7, 'H': 8, 'I': 9, 'J': 10, 'K': 11, 'L': 12, 'M': 13, 'N': 14, 'O': 15, 'P': 16, 'Q': 17, 'R': 18, 'S': 19, 'T': 20, 'U': 21, 'V': 22, 'W': 23, 'X': 24, 'Y': 25, 'Z': 26}\n"
          ],
          "name": "stdout"
        }
      ]
    },
    {
      "cell_type": "code",
      "metadata": {
        "id": "KSSEywujWnOe",
        "colab_type": "code",
        "outputId": "9084ccc6-3413-458b-d782-aae71d9d0be1",
        "colab": {
          "base_uri": "https://localhost:8080/",
          "height": 54
        }
      },
      "source": [
        "hindi_alphabets=[chr(alpha) for alpha in range(2304,2432)]\n",
        "hindi_alphabets_size=len(hindi_alphabets)\n",
        "hindi_alpha2index={pad_char:0}\n",
        "for index,alpha in enumerate(hindi_alphabets):\n",
        "  hindi_alpha2index[alpha]=index+1\n",
        "print(hindi_alpha2index)"
      ],
      "execution_count": 4,
      "outputs": [
        {
          "output_type": "stream",
          "text": [
            "{'-PAD-': 0, 'ऀ': 1, 'ँ': 2, 'ं': 3, 'ः': 4, 'ऄ': 5, 'अ': 6, 'आ': 7, 'इ': 8, 'ई': 9, 'उ': 10, 'ऊ': 11, 'ऋ': 12, 'ऌ': 13, 'ऍ': 14, 'ऎ': 15, 'ए': 16, 'ऐ': 17, 'ऑ': 18, 'ऒ': 19, 'ओ': 20, 'औ': 21, 'क': 22, 'ख': 23, 'ग': 24, 'घ': 25, 'ङ': 26, 'च': 27, 'छ': 28, 'ज': 29, 'झ': 30, 'ञ': 31, 'ट': 32, 'ठ': 33, 'ड': 34, 'ढ': 35, 'ण': 36, 'त': 37, 'थ': 38, 'द': 39, 'ध': 40, 'न': 41, 'ऩ': 42, 'प': 43, 'फ': 44, 'ब': 45, 'भ': 46, 'म': 47, 'य': 48, 'र': 49, 'ऱ': 50, 'ल': 51, 'ळ': 52, 'ऴ': 53, 'व': 54, 'श': 55, 'ष': 56, 'स': 57, 'ह': 58, 'ऺ': 59, 'ऻ': 60, '़': 61, 'ऽ': 62, 'ा': 63, 'ि': 64, 'ी': 65, 'ु': 66, 'ू': 67, 'ृ': 68, 'ॄ': 69, 'ॅ': 70, 'ॆ': 71, 'े': 72, 'ै': 73, 'ॉ': 74, 'ॊ': 75, 'ो': 76, 'ौ': 77, '्': 78, 'ॎ': 79, 'ॏ': 80, 'ॐ': 81, '॑': 82, '॒': 83, '॓': 84, '॔': 85, 'ॕ': 86, 'ॖ': 87, 'ॗ': 88, 'क़': 89, 'ख़': 90, 'ग़': 91, 'ज़': 92, 'ड़': 93, 'ढ़': 94, 'फ़': 95, 'य़': 96, 'ॠ': 97, 'ॡ': 98, 'ॢ': 99, 'ॣ': 100, '।': 101, '॥': 102, '०': 103, '१': 104, '२': 105, '३': 106, '४': 107, '५': 108, '६': 109, '७': 110, '८': 111, '९': 112, '॰': 113, 'ॱ': 114, 'ॲ': 115, 'ॳ': 116, 'ॴ': 117, 'ॵ': 118, 'ॶ': 119, 'ॷ': 120, 'ॸ': 121, 'ॹ': 122, 'ॺ': 123, 'ॻ': 124, 'ॼ': 125, 'ॽ': 126, 'ॾ': 127, 'ॿ': 128}\n"
          ],
          "name": "stdout"
        }
      ]
    },
    {
      "cell_type": "code",
      "metadata": {
        "id": "7Hi2Vjj9W9yP",
        "colab_type": "code",
        "colab": {}
      },
      "source": [
        "non_eng_letters_regex=re.compile('[^a-z A-Z]')"
      ],
      "execution_count": 0,
      "outputs": []
    },
    {
      "cell_type": "code",
      "metadata": {
        "id": "mwzGq1DvXGUx",
        "colab_type": "code",
        "colab": {}
      },
      "source": [
        "def cleanEnglishVocab(line):\n",
        "  line=line.replace(',',' ').replace('-',' ').upper()\n",
        "  line=non_eng_letters_regex.sub('',line)\n",
        "  return line.split()"
      ],
      "execution_count": 0,
      "outputs": []
    },
    {
      "cell_type": "code",
      "metadata": {
        "id": "V3tJjbgxXd_q",
        "colab_type": "code",
        "colab": {}
      },
      "source": [
        "def cleanHindiVocab(line):\n",
        "  line=line.replace('-',' ').replace(',',' ')\n",
        "  cleaned_line=''\n",
        "  for char in line:\n",
        "    if char in hindi_alpha2index or char==' ':\n",
        "      cleaned_line+=char\n",
        "  return cleaned_line.split()"
      ],
      "execution_count": 0,
      "outputs": []
    },
    {
      "cell_type": "code",
      "metadata": {
        "id": "XskcCw17X92C",
        "colab_type": "code",
        "colab": {}
      },
      "source": [
        "class Transliteration_Dataloader(Dataset):\n",
        "  def __init__(self,filename):\n",
        "    self.eng_words,self.hindi_words=self.readXmlDataset(filename)\n",
        "    self.shuffle_start_index=0\n",
        "    self.shuffle_indices=list(range(len(self.eng_words)))\n",
        "    random.shuffle(self.shuffle_indices)\n",
        "  def __len__(self):\n",
        "    return len(self.eng_words)\n",
        "  def __getitem__(self,idx):\n",
        "    return self.eng_words[idx],self.hindi_words[idx]\n",
        "  def readXmlDataset(self,filename):\n",
        "    transliteration_corpus=parse(filename).getroot()\n",
        "    lang1_list=[]\n",
        "    lang2_list=[]\n",
        "    for line in transliteration_corpus:\n",
        "      lang1=cleanEnglishVocab(line[0].text)\n",
        "      lang2=cleanHindiVocab(line[1].text)\n",
        "      if len(lang1)!=len(lang2):\n",
        "        print('Skipping',line[0].text,' - ',line[1].text)\n",
        "        continue\n",
        "      for data in lang1:\n",
        "        lang1_list.append(data)\n",
        "      for data in lang2:\n",
        "        lang2_list.append(data)\n",
        "    return lang1_list,lang2_list\n",
        "  def get_sample_return(self):\n",
        "    return self.__getitem__(np.random.randint(len(self.eng_words)))\n",
        "  def get_batch_from_array(self,batch_size,array):\n",
        "    batch=[]\n",
        "    end=self.shuffle_start_index+batch_size\n",
        "    if end>=len(self.eng_words):\n",
        "      batch=[array[i] for i in self.shuffle_indices[0:end%len(self.eng_words)]]\n",
        "      end=len(self.eng_words)\n",
        "    return batch+[array[i] for i in self.shuffle_indices[self.shuffle_start_index:end]]\n",
        "  def get_batch(self,batch_size):\n",
        "    batch1=self.get_batch_from_array(batch_size,self.eng_words)\n",
        "    batch2=self.get_batch_from_array(batch_size,self.hindi_words)\n",
        "    self.shuffle_start_index+=batch_size\n",
        "    if self.shuffle_start_index>=len(self.eng_words):\n",
        "      self.shuffle_start_index=0\n",
        "      random.shuffle(self.shuffle_indices)\n",
        "    return batch1,batch2"
      ],
      "execution_count": 0,
      "outputs": []
    },
    {
      "cell_type": "code",
      "metadata": {
        "id": "dzbYtqsCaYGf",
        "colab_type": "code",
        "outputId": "f957aa25-6dde-4220-e5cc-ef709b60923c",
        "colab": {
          "base_uri": "https://localhost:8080/",
          "height": 680
        }
      },
      "source": [
        "train_data=Transliteration_Dataloader('/content/rI58TOlAScioEuPBbOYh_NEWS2012TrainingEnHi13937-1563719470862.xml')\n",
        "test_data=Transliteration_Dataloader('/content/njThAK0RQGeoOuE9rfwg_NEWS2012RefEnHi1000-1563719263404.xml')"
      ],
      "execution_count": 9,
      "outputs": [
        {
          "output_type": "stream",
          "text": [
            "Skipping BARHARWA JUNCTION  -  बरहरवा\n",
            "Skipping STATE BNK TR  -  स्टेट बैंक ऑफ त्रावणकोर\n",
            "Skipping SOUTH ARLINGTON CHURCH OF CHRIST  -  साउथ अर्लिंग्टन\n",
            "Skipping KING EDWARD VII  -  किंग एडवर्ड\n",
            "Skipping DIBANG VALLEY  -  दिबंगवैली\n",
            "Skipping ORDER OF VASA  -  ऑडर ऑफ़ द वासा\n",
            "Skipping AZAMNAGAR ROAD  -  आज़मनगर\n",
            "Skipping CAPE TOWN  -  केपटाउन\n",
            "Skipping NEW ZEALAND  -  न्यूज़ीलैंड\n",
            "Skipping SEA OF THE HEBRIDES  -  सी ऑफ हरब्रिड्‍स\n",
            "Skipping RAMCOIND  -  राम्को इंड\n",
            "Skipping KELVINGROVE ART GALLERY AND MUSEUM  -  केल्व‍िनग्रोव आर्ट एण्ड म्युज़ियम\n",
            "Skipping AUSTRALIAN NATIONAL UNIVERSITY  -  ऑस्ट्रेलियननेशनल यूनिवर्सिटी\n",
            "Skipping JAHAN AARA  -  जहाँआरा\n",
            "Skipping NAVABHARAT FERRO ALLOYS  -  नव भारत फ़ैरो अलॉय\n",
            "Skipping RAMA LINGESHWARA  -  रामालिंगेश्वर\n",
            "Skipping FAKHRUN NISA  -  फखरुन्निसा\n",
            "Skipping REDIFF.COM INDIA LIMITED  -  रेडिफ़ डॉट कॉम इंडिया लिमिटेड\n",
            "Skipping OMKARNATH THAKUR  -  ओंकार नाथ ठाकुर\n",
            "Skipping OPENTV  -  ओपन टीवी\n",
            "Skipping ENVOY COMMUNICATIONS GROUP  -  एन्वॉय कम्युनिकेशंस\n",
            "Skipping WAR OF THE HOLY LEAGUE  -  वार ऑफ होली लीग\n",
            "Skipping VAPARAISO CHURCH OF CHRIST  -  व्हापरासिओ\n",
            "Skipping PARIS CHARLES DE GAULLE  -  पेरिस रॉसे चार्ल्स डे ग्यूले\n",
            "Skipping PARKWAY APOSTOLIC  -  पार्क वे अपोस्टोलिक\n",
            "Skipping MAUNA LOA  -  मौनालोआ\n",
            "Skipping MASS MUTUAL LIFE  -  मास म्युच्युअल लाइफ़ इंश्योरेंस\n",
            "Skipping STATS CHIPPAC  -  स्टेट्सचिपपैक\n",
            "Skipping NEWFOUNDLAND  -  न्यू फाउंडलैंड\n",
            "Skipping LONDONHEATHROW  -  लंदन हीथ्रो\n",
            "Skipping RETALIX  -  रेटालिक्स लि.\n",
            "Skipping SRISAILAM  -  श्री शैलम\n",
            "Skipping KARA-KUM  -  काराकुम\n",
            "Skipping WIND RIVER  -  विंडरिवर\n",
            "Skipping NETAJI SUBHASH CHANDRA BOSE  -  नेताजी सुभाषचंद्र बोस\n",
            "Skipping ROCKBROOK UNITED  -  रॉकब्रुक यूनाइटेड मेथोडिस्ट\n",
            "Skipping WALTER SCOTT  -  वॉल्टरस्कॉट\n",
            "Skipping COLOURPLUS FASHIONS  -  कलर प्लस फ़ैशन्स\n",
            "Skipping BAL KRISHNA  -  बालकृष्णा\n"
          ],
          "name": "stdout"
        }
      ]
    },
    {
      "cell_type": "code",
      "metadata": {
        "id": "y5zOYuJjbEnE",
        "colab_type": "code",
        "colab": {}
      },
      "source": [
        "def lang_rep(word,alpha2index,device='cpu'):\n",
        "  rep=torch.zeros(len(word)+1,1,len(alpha2index)).to(device)\n",
        "  for index,alpha in enumerate(word):\n",
        "    pos=alpha2index[alpha]\n",
        "    rep[index][0][pos]=1\n",
        "  pad_pos=alpha2index[pad_char]\n",
        "  rep[index+1][0][pad_pos]=1\n",
        "  return rep"
      ],
      "execution_count": 0,
      "outputs": []
    },
    {
      "cell_type": "code",
      "metadata": {
        "id": "U09pWhOmbe-I",
        "colab_type": "code",
        "colab": {}
      },
      "source": [
        "def gt_rep(word,alpha2index,device='cpu'):\n",
        "  rep=torch.zeros([len(word)+1,1],dtype=torch.long).to(device)\n",
        "  for index,alpha in enumerate(word):\n",
        "    rep[index][0]=alpha2index[alpha]\n",
        "  rep[index+1][0]=alpha2index[pad_char]\n",
        "  return rep"
      ],
      "execution_count": 0,
      "outputs": []
    },
    {
      "cell_type": "code",
      "metadata": {
        "id": "D-btbePRcGCk",
        "colab_type": "code",
        "colab": {}
      },
      "source": [
        "class Transliteration_EDA(torch.nn.Module):\n",
        "  def __init__(self,input_size,hidden_size,output_size):\n",
        "    super(Transliteration_EDA,self).__init__()\n",
        "    self.hidden_size=hidden_size\n",
        "    self.output_size=output_size\n",
        "    self.h2o=torch.nn.Linear(self.hidden_size,self.output_size)\n",
        "    self.softmax=torch.nn.LogSoftmax(dim=2)\n",
        "    self.encoder_rnn_cell=torch.nn.GRU(input_size,self.hidden_size)\n",
        "    self.decoder_rnn_cell=torch.nn.GRU(self.hidden_size*2,self.hidden_size)\n",
        "    self.o2h=torch.nn.Linear(self.output_size,self.hidden_size)\n",
        "    self.attn=torch.nn.Linear(self.hidden_size,1)\n",
        "    self.U=torch.nn.Linear(self.hidden_size,self.hidden_size)\n",
        "    self.W=torch.nn.Linear(self.hidden_size,self.hidden_size)\n",
        "  def forward(self,input_,max_output_chars,device='cpu',gt=None):\n",
        "    e_out,hidden=self.encoder_rnn_cell(input_)\n",
        "    e_out=e_out.view(-1,self.hidden_size)\n",
        "    decoder_state=hidden\n",
        "    decoder_input=torch.zeros(1,1,self.output_size).to(device)\n",
        "    outputs=[]\n",
        "    U=self.U(e_out)\n",
        "    for i in range(max_output_chars):\n",
        "      W=self.W(decoder_state.view(1,-1).repeat(e_out.shape[0],1))\n",
        "      V=self.attn(torch.tanh(U+W))\n",
        "      attn=F.softmax(V.view(1,-1),dim=1)\n",
        "      attn_wts=torch.bmm(attn.unsqueeze(0),e_out.unsqueeze(0))\n",
        "      embedding=self.o2h(decoder_input)\n",
        "      decoder_input=torch.cat((embedding[0],attn_wts[0]),dim=1).unsqueeze(0)\n",
        "      out,decoder_state=self.decoder_rnn_cell(decoder_input,decoder_state)\n",
        "      out=self.h2o(decoder_state)\n",
        "      out=self.softmax(out)\n",
        "      outputs.append(out.view(1,-1))\n",
        "      max_idx=torch.argmax(out,2,keepdim=True)\n",
        "      if not gt is None:\n",
        "        max_idx=gt[i].reshape(1,1,1)\n",
        "      one_hot=torch.FloatTensor(out.shape).to(device)\n",
        "      one_hot.zero_()\n",
        "      one_hot.scatter_(2,max_idx,1)\n",
        "      decoder_input=one_hot.detach()\n",
        "    return outputs"
      ],
      "execution_count": 0,
      "outputs": []
    },
    {
      "cell_type": "code",
      "metadata": {
        "id": "wSTdW6WNfCIW",
        "colab_type": "code",
        "colab": {}
      },
      "source": [
        "def infer(net,input_,max_output_chars,device='cpu'):\n",
        "  net=net.to(device)\n",
        "  word=lang_rep(input_,eng_alpha2index,device)\n",
        "  outs=net(word,max_output_chars,device,None)\n",
        "  return outs"
      ],
      "execution_count": 0,
      "outputs": []
    },
    {
      "cell_type": "code",
      "metadata": {
        "id": "IYvv7zSTgTBi",
        "colab_type": "code",
        "colab": {}
      },
      "source": [
        "def train_batch(net,opt,criterion,batch_size,device='cpu',teacher_force=False):\n",
        "  net=net.train().to(device)\n",
        "  opt.zero_grad()\n",
        "  total_loss=0\n",
        "  eng,hindi=train_data.get_batch(batch_size)\n",
        "  for i in range(batch_size):\n",
        "    gt=gt_rep(hindi[i],hindi_alpha2index,device)\n",
        "    word=lang_rep(eng[i],eng_alpha2index,device)\n",
        "    outs=net(word,gt.shape[0],device,gt if teacher_force else None)\n",
        "    for index,out in enumerate(outs):\n",
        "      loss=criterion(out,gt[index])/batch_size\n",
        "      loss.backward(retain_graph=True)\n",
        "      total_loss+=loss\n",
        "  opt.step()\n",
        "  return total_loss/batch_size"
      ],
      "execution_count": 0,
      "outputs": []
    },
    {
      "cell_type": "code",
      "metadata": {
        "id": "4f3ZR048hari",
        "colab_type": "code",
        "colab": {}
      },
      "source": [
        "def train_setup(net,lr,momentum,batch_size,n_batches,display_freq,device='cpu'):\n",
        "  net=net.train().to(device)\n",
        "  opt=torch.optim.Adam(net.parameters(),lr=lr)\n",
        "  criterion=torch.nn.NLLLoss(ignore_index=-1)\n",
        "  loss_arr=np.zeros(n_batches+1)\n",
        "  #teacher_force_upto=n_batches//3\n",
        "  for i in range(n_batches):\n",
        "    loss_arr[i+1]=(loss_arr[i]*i+train_batch(net,opt,criterion,batch_size,device,True))/(i+1)\n",
        "    if i%display_freq==display_freq-1:\n",
        "      clear_output(wait=True)\n",
        "      print('Iteration',i,'Loss',loss_arr[i])\n",
        "      plt.figure()\n",
        "      plt.plot(loss_arr[1:i],'-*')\n",
        "      plt.xlabel('Iteration')\n",
        "      plt.ylabel('Loss')\n",
        "      plt.show()\n",
        "  torch.save(net,'GRU_Att_Adam.pt')\n",
        "  return loss_arr"
      ],
      "execution_count": 0,
      "outputs": []
    },
    {
      "cell_type": "code",
      "metadata": {
        "id": "SH6ILBqPisAB",
        "colab_type": "code",
        "outputId": "7a574f32-20ac-4e68-95a9-633294063e58",
        "colab": {
          "base_uri": "https://localhost:8080/",
          "height": 452
        }
      },
      "source": [
        "net=Transliteration_EDA(len(eng_alpha2index),512,len(hindi_alpha2index))\n",
        "loss_arr=train_setup(net,lr=0.001,momentum=0.9,batch_size=128,n_batches=2048,display_freq=2,device=device_gpu)"
      ],
      "execution_count": 0,
      "outputs": [
        {
          "output_type": "stream",
          "text": [
            "Iteration 2047 Loss 0.03051852621138096\n"
          ],
          "name": "stdout"
        },
        {
          "output_type": "display_data",
          "data": {
            "image/png": "[encoded data removed]",
            "text/plain": [
              "<Figure size 432x288 with 1 Axes>"
            ]
          },
          "metadata": {
            "tags": []
          }
        },
        {
          "output_type": "stream",
          "text": [
            "/usr/local/lib/python3.6/dist-packages/torch/serialization.py:292: UserWarning: Couldn't retrieve source code for container of type Transliteration_EDA. It won't be checked for correctness upon loading.\n",
            "  \"type \" + obj.__name__ + \". It won't be checked \"\n",
            "/usr/local/lib/python3.6/dist-packages/torch/serialization.py:292: UserWarning: Couldn't retrieve source code for container of type Linear. It won't be checked for correctness upon loading.\n",
            "  \"type \" + obj.__name__ + \". It won't be checked \"\n",
            "/usr/local/lib/python3.6/dist-packages/torch/serialization.py:292: UserWarning: Couldn't retrieve source code for container of type LogSoftmax. It won't be checked for correctness upon loading.\n",
            "  \"type \" + obj.__name__ + \". It won't be checked \"\n",
            "/usr/local/lib/python3.6/dist-packages/torch/serialization.py:292: UserWarning: Couldn't retrieve source code for container of type GRU. It won't be checked for correctness upon loading.\n",
            "  \"type \" + obj.__name__ + \". It won't be checked \"\n"
          ],
          "name": "stderr"
        }
      ]
    },
    {
      "cell_type": "code",
      "metadata": {
        "id": "NS-r6e4ZjYIM",
        "colab_type": "code",
        "colab": {}
      },
      "source": [
        "def test(net,input_,max_output_chars,device='cpu'):\n",
        "  net=net.eval().to(device)\n",
        "  word=lang_rep(input_,eng_alpha2index,device)\n",
        "  outs=net(word,max_output_chars,device,None)\n",
        "  hindi_output=''\n",
        "  for out in outs:\n",
        "    _,indices=out.topk(1)\n",
        "    indices=indices.tolist()[0][0]\n",
        "    if indices==0:\n",
        "      break\n",
        "    hindi_char=list(hindi_alpha2index.keys())[list(hindi_alpha2index.values()).index(torch.argmax(out))]\n",
        "    hindi_output+=hindi_char\n",
        "  print(input_,' - ',hindi_output)\n",
        "  return hindi_output"
      ],
      "execution_count": 0,
      "outputs": []
    },
    {
      "cell_type": "code",
      "metadata": {
        "id": "elxi4vN5lGcf",
        "colab_type": "code",
        "colab": {}
      },
      "source": [
        "def get_accuracy(net,device='cpu'):\n",
        "  net=net.eval().to(device)\n",
        "  accuracy=0\n",
        "  for i in range(len(test_data)):\n",
        "    eng,hindi=test_data[i]\n",
        "    gt=gt_rep(hindi,hindi_alpha2index,device)\n",
        "    word=lang_rep(eng,eng_alpha2index,device)\n",
        "    correct=0\n",
        "    outs=net(word,gt.shape[0],device,None)\n",
        "    for index,out in enumerate(outs):\n",
        "      _,indices=out.topk(1)\n",
        "      indices=indices.tolist()[0][0]\n",
        "      if indices==gt[index][0]:\n",
        "        correct+=1\n",
        "    accuracy+=correct/gt.shape[0]\n",
        "  accuracy/=len(test_data)\n",
        "  return accuracy"
      ],
      "execution_count": 0,
      "outputs": []
    },
    {
      "cell_type": "code",
      "metadata": {
        "id": "7D7dHHQHSh3t",
        "colab_type": "code",
        "colab": {}
      },
      "source": [
        "net=torch.load('/content/GRU_Att_Adam.pt')"
      ],
      "execution_count": 0,
      "outputs": []
    },
    {
      "cell_type": "code",
      "metadata": {
        "id": "xMwWeaqCZC4z",
        "colab_type": "code",
        "outputId": "12746ac6-ffc9-4f01-d8a6-5cb963cb17e6",
        "colab": {
          "base_uri": "https://localhost:8080/",
          "height": 51
        }
      },
      "source": [
        "test(net,'CANADA',15,device=device_gpu)"
      ],
      "execution_count": 20,
      "outputs": [
        {
          "output_type": "stream",
          "text": [
            "CANADA  -  कनाडा\n"
          ],
          "name": "stdout"
        },
        {
          "output_type": "execute_result",
          "data": {
            "text/plain": [
              "'कनाडा'"
            ]
          },
          "metadata": {
            "tags": []
          },
          "execution_count": 20
        }
      ]
    },
    {
      "cell_type": "code",
      "metadata": {
        "id": "Owp7pNx6mctT",
        "colab_type": "code",
        "outputId": "514eaab5-b426-4601-e614-5a38e424dbde",
        "colab": {
          "base_uri": "https://localhost:8080/",
          "height": 34
        }
      },
      "source": [
        "get_accuracy(net,device_gpu)"
      ],
      "execution_count": 21,
      "outputs": [
        {
          "output_type": "execute_result",
          "data": {
            "text/plain": [
              "0.7873035631035629"
            ]
          },
          "metadata": {
            "tags": []
          },
          "execution_count": 21
        }
      ]
    }
  ]
}